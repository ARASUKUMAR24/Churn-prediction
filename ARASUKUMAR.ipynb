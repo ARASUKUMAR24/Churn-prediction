{
  "nbformat": 4,
  "nbformat_minor": 0,
  "metadata": {
    "colab": {
      "provenance": [],
      "authorship_tag": "ABX9TyNwcsPeWJ8bJWAxwlK8PbBK",
      "include_colab_link": true
    },
    "kernelspec": {
      "name": "python3",
      "display_name": "Python 3"
    },
    "language_info": {
      "name": "python"
    }
  },
  "cells": [
    {
      "cell_type": "markdown",
      "metadata": {
        "id": "view-in-github",
        "colab_type": "text"
      },
      "source": [
        "<a href=\"https://colab.research.google.com/github/ARASUKUMAR24/Churn-prediction/blob/main/ARASUKUMAR.ipynb\" target=\"_parent\"><img src=\"https://colab.research.google.com/assets/colab-badge.svg\" alt=\"Open In Colab\"/></a>"
      ]
    },
    {
      "cell_type": "markdown",
      "source": [
        " Upload the Dataset"
      ],
      "metadata": {
        "id": "dPZsSZANAqDa"
      }
    },
    {
      "cell_type": "code",
      "execution_count": null,
      "metadata": {
        "colab": {
          "base_uri": "https://localhost:8080/",
          "height": 38
        },
        "id": "nGtwGBmDAjXT",
        "outputId": "4cdb029f-492c-4110-ef64-56e85e22451c"
      },
      "outputs": [
        {
          "output_type": "display_data",
          "data": {
            "text/plain": [
              "<IPython.core.display.HTML object>"
            ],
            "text/html": [
              "\n",
              "     <input type=\"file\" id=\"files-1dd0e1ea-c5a7-4e10-a174-6a43d459eccd\" name=\"files[]\" multiple disabled\n",
              "        style=\"border:none\" />\n",
              "     <output id=\"result-1dd0e1ea-c5a7-4e10-a174-6a43d459eccd\">\n",
              "      Upload widget is only available when the cell has been executed in the\n",
              "      current browser session. Please rerun this cell to enable.\n",
              "      </output>\n",
              "      <script>// Copyright 2017 Google LLC\n",
              "//\n",
              "// Licensed under the Apache License, Version 2.0 (the \"License\");\n",
              "// you may not use this file except in compliance with the License.\n",
              "// You may obtain a copy of the License at\n",
              "//\n",
              "//      http://www.apache.org/licenses/LICENSE-2.0\n",
              "//\n",
              "// Unless required by applicable law or agreed to in writing, software\n",
              "// distributed under the License is distributed on an \"AS IS\" BASIS,\n",
              "// WITHOUT WARRANTIES OR CONDITIONS OF ANY KIND, either express or implied.\n",
              "// See the License for the specific language governing permissions and\n",
              "// limitations under the License.\n",
              "\n",
              "/**\n",
              " * @fileoverview Helpers for google.colab Python module.\n",
              " */\n",
              "(function(scope) {\n",
              "function span(text, styleAttributes = {}) {\n",
              "  const element = document.createElement('span');\n",
              "  element.textContent = text;\n",
              "  for (const key of Object.keys(styleAttributes)) {\n",
              "    element.style[key] = styleAttributes[key];\n",
              "  }\n",
              "  return element;\n",
              "}\n",
              "\n",
              "// Max number of bytes which will be uploaded at a time.\n",
              "const MAX_PAYLOAD_SIZE = 100 * 1024;\n",
              "\n",
              "function _uploadFiles(inputId, outputId) {\n",
              "  const steps = uploadFilesStep(inputId, outputId);\n",
              "  const outputElement = document.getElementById(outputId);\n",
              "  // Cache steps on the outputElement to make it available for the next call\n",
              "  // to uploadFilesContinue from Python.\n",
              "  outputElement.steps = steps;\n",
              "\n",
              "  return _uploadFilesContinue(outputId);\n",
              "}\n",
              "\n",
              "// This is roughly an async generator (not supported in the browser yet),\n",
              "// where there are multiple asynchronous steps and the Python side is going\n",
              "// to poll for completion of each step.\n",
              "// This uses a Promise to block the python side on completion of each step,\n",
              "// then passes the result of the previous step as the input to the next step.\n",
              "function _uploadFilesContinue(outputId) {\n",
              "  const outputElement = document.getElementById(outputId);\n",
              "  const steps = outputElement.steps;\n",
              "\n",
              "  const next = steps.next(outputElement.lastPromiseValue);\n",
              "  return Promise.resolve(next.value.promise).then((value) => {\n",
              "    // Cache the last promise value to make it available to the next\n",
              "    // step of the generator.\n",
              "    outputElement.lastPromiseValue = value;\n",
              "    return next.value.response;\n",
              "  });\n",
              "}\n",
              "\n",
              "/**\n",
              " * Generator function which is called between each async step of the upload\n",
              " * process.\n",
              " * @param {string} inputId Element ID of the input file picker element.\n",
              " * @param {string} outputId Element ID of the output display.\n",
              " * @return {!Iterable<!Object>} Iterable of next steps.\n",
              " */\n",
              "function* uploadFilesStep(inputId, outputId) {\n",
              "  const inputElement = document.getElementById(inputId);\n",
              "  inputElement.disabled = false;\n",
              "\n",
              "  const outputElement = document.getElementById(outputId);\n",
              "  outputElement.innerHTML = '';\n",
              "\n",
              "  const pickedPromise = new Promise((resolve) => {\n",
              "    inputElement.addEventListener('change', (e) => {\n",
              "      resolve(e.target.files);\n",
              "    });\n",
              "  });\n",
              "\n",
              "  const cancel = document.createElement('button');\n",
              "  inputElement.parentElement.appendChild(cancel);\n",
              "  cancel.textContent = 'Cancel upload';\n",
              "  const cancelPromise = new Promise((resolve) => {\n",
              "    cancel.onclick = () => {\n",
              "      resolve(null);\n",
              "    };\n",
              "  });\n",
              "\n",
              "  // Wait for the user to pick the files.\n",
              "  const files = yield {\n",
              "    promise: Promise.race([pickedPromise, cancelPromise]),\n",
              "    response: {\n",
              "      action: 'starting',\n",
              "    }\n",
              "  };\n",
              "\n",
              "  cancel.remove();\n",
              "\n",
              "  // Disable the input element since further picks are not allowed.\n",
              "  inputElement.disabled = true;\n",
              "\n",
              "  if (!files) {\n",
              "    return {\n",
              "      response: {\n",
              "        action: 'complete',\n",
              "      }\n",
              "    };\n",
              "  }\n",
              "\n",
              "  for (const file of files) {\n",
              "    const li = document.createElement('li');\n",
              "    li.append(span(file.name, {fontWeight: 'bold'}));\n",
              "    li.append(span(\n",
              "        `(${file.type || 'n/a'}) - ${file.size} bytes, ` +\n",
              "        `last modified: ${\n",
              "            file.lastModifiedDate ? file.lastModifiedDate.toLocaleDateString() :\n",
              "                                    'n/a'} - `));\n",
              "    const percent = span('0% done');\n",
              "    li.appendChild(percent);\n",
              "\n",
              "    outputElement.appendChild(li);\n",
              "\n",
              "    const fileDataPromise = new Promise((resolve) => {\n",
              "      const reader = new FileReader();\n",
              "      reader.onload = (e) => {\n",
              "        resolve(e.target.result);\n",
              "      };\n",
              "      reader.readAsArrayBuffer(file);\n",
              "    });\n",
              "    // Wait for the data to be ready.\n",
              "    let fileData = yield {\n",
              "      promise: fileDataPromise,\n",
              "      response: {\n",
              "        action: 'continue',\n",
              "      }\n",
              "    };\n",
              "\n",
              "    // Use a chunked sending to avoid message size limits. See b/62115660.\n",
              "    let position = 0;\n",
              "    do {\n",
              "      const length = Math.min(fileData.byteLength - position, MAX_PAYLOAD_SIZE);\n",
              "      const chunk = new Uint8Array(fileData, position, length);\n",
              "      position += length;\n",
              "\n",
              "      const base64 = btoa(String.fromCharCode.apply(null, chunk));\n",
              "      yield {\n",
              "        response: {\n",
              "          action: 'append',\n",
              "          file: file.name,\n",
              "          data: base64,\n",
              "        },\n",
              "      };\n",
              "\n",
              "      let percentDone = fileData.byteLength === 0 ?\n",
              "          100 :\n",
              "          Math.round((position / fileData.byteLength) * 100);\n",
              "      percent.textContent = `${percentDone}% done`;\n",
              "\n",
              "    } while (position < fileData.byteLength);\n",
              "  }\n",
              "\n",
              "  // All done.\n",
              "  yield {\n",
              "    response: {\n",
              "      action: 'complete',\n",
              "    }\n",
              "  };\n",
              "}\n",
              "\n",
              "scope.google = scope.google || {};\n",
              "scope.google.colab = scope.google.colab || {};\n",
              "scope.google.colab._files = {\n",
              "  _uploadFiles,\n",
              "  _uploadFilesContinue,\n",
              "};\n",
              "})(self);\n",
              "</script> "
            ]
          },
          "metadata": {}
        }
      ],
      "source": [
        "from google.colab import files\n",
        "uploaded = files.upload()\n"
      ]
    },
    {
      "cell_type": "markdown",
      "source": [
        "Load the Dataset"
      ],
      "metadata": {
        "id": "Gn7H7VZ3A1P0"
      }
    },
    {
      "cell_type": "code",
      "source": [
        "import pandas as pd\n",
        "\n",
        "# Replace with your actual filename\n",
        "df = pd.read_csv('/content/churn_prediction (1).csv')\n",
        "df.head()\n"
      ],
      "metadata": {
        "id": "kkOmhHCNA5sh"
      },
      "execution_count": null,
      "outputs": []
    },
    {
      "cell_type": "markdown",
      "source": [
        " Data Exploration"
      ],
      "metadata": {
        "id": "wDnRiv0qBADW"
      }
    },
    {
      "cell_type": "code",
      "source": [
        "# Basic info\n",
        "df.info()\n",
        "\n",
        "# Descriptive statistics\n",
        "df.describe()\n",
        "\n",
        "# Preview column names\n",
        "print(\"Columns:\", df.columns.tolist())\n"
      ],
      "metadata": {
        "id": "9MGsrB3HBMjp"
      },
      "execution_count": null,
      "outputs": []
    },
    {
      "cell_type": "markdown",
      "source": [
        "Check for Missing Values and Duplicates\n",
        "python\n",
        "Copy\n",
        "Edit\n"
      ],
      "metadata": {
        "id": "Dh_DFT5sBPan"
      }
    },
    {
      "cell_type": "code",
      "source": [
        "# Check for missing values\n",
        "print(df.isnull().sum())\n",
        "\n",
        "# Check for duplicates\n",
        "print(\"Duplicate Rows:\", df.duplicated().sum())\n"
      ],
      "metadata": {
        "id": "0VwJIiQRBWwy"
      },
      "execution_count": null,
      "outputs": []
    },
    {
      "cell_type": "markdown",
      "source": [
        "Visualize a Few Features"
      ],
      "metadata": {
        "id": "tiRgZM6fBX2p"
      }
    },
    {
      "cell_type": "code",
      "source": [
        "import seaborn as sns\n",
        "import matplotlib.pyplot as plt\n",
        "\n",
        "# Set Seaborn style for better visuals\n",
        "sns.set(style=\"whitegrid\")\n",
        "\n",
        "# Check if 'Gender' and 'Age' columns exist\n",
        "if 'Gender' in df.columns:\n",
        "    plt.figure(figsize=(6, 4))\n",
        "    sns.countplot(data=df, x='Gender', palette='Set2')\n",
        "    plt.title('Gender Distribution')\n",
        "    plt.xlabel('Gender')\n",
        "    plt.ylabel('Count')\n",
        "    plt.show()\n",
        "else:\n",
        "    print(\"Column 'Gender' not found in DataFrame.\")\n",
        "\n",
        "if 'Age' in df.columns:\n",
        "    plt.figure(figsize=(6, 4))\n",
        "    sns.histplot(df['Age'], kde=True, color='skyblue', bins=30)\n",
        "    plt.title('Age Distribution')\n",
        "    plt.xlabel('Age')\n",
        "    plt.ylabel('Frequency')\n",
        "    plt.show()\n",
        "else:\n",
        "    print(\"Column 'Age' not found in DataFrame.\")\n"
      ],
      "metadata": {
        "id": "ilW6f-f-Bcww"
      },
      "execution_count": null,
      "outputs": []
    },
    {
      "cell_type": "markdown",
      "source": [
        "Identify Target and Features"
      ],
      "metadata": {
        "id": "D_az31FWBgUQ"
      }
    },
    {
      "cell_type": "code",
      "source": [
        "print(df.columns.tolist())\n",
        "\n",
        "target_column = 'churn'\n",
        "X = df.drop(target_column, axis=1)\n",
        "y = df[target_column]\n",
        "df.head()"
      ],
      "metadata": {
        "id": "dlMRfzZRBjWE"
      },
      "execution_count": null,
      "outputs": []
    },
    {
      "cell_type": "markdown",
      "source": [
        "Convert Categorical Columns to Numerical"
      ],
      "metadata": {
        "id": "yg-XTxS5BmEv"
      }
    },
    {
      "cell_type": "code",
      "source": [
        "# Identify categorical columns\n",
        "cat_cols = X.select_dtypes(include='object').columns\n",
        "print(\"Categorical Columns:\", cat_cols.tolist())\n",
        "\n",
        "# Apply label encoding temporarily (can be replaced with OneHot later)\n",
        "from sklearn.preprocessing import LabelEncoder\n",
        "le = LabelEncoder()\n",
        "\n",
        "for col in cat_cols:\n",
        "    X[col] = le.fit_transform(X[col])\n"
      ],
      "metadata": {
        "id": "fNLcOZ_jBo3L"
      },
      "execution_count": null,
      "outputs": []
    },
    {
      "cell_type": "markdown",
      "source": [
        "Convert Categorical Columns to Numerical"
      ],
      "metadata": {
        "id": "O0nKW71RBrwy"
      }
    },
    {
      "cell_type": "code",
      "source": [
        "# Identify categorical columns\n",
        "cat_cols = X.select_dtypes(include='object').columns\n",
        "print(\"Categorical Columns:\", cat_cols.tolist())\n",
        "\n",
        "# Apply label encoding temporarily (can be replaced with OneHot later)\n",
        "from sklearn.preprocessing import LabelEncoder\n",
        "le = LabelEncoder()\n",
        "\n",
        "for col in cat_cols:\n",
        "    X[col] = le.fit_transform(X[col])\n"
      ],
      "metadata": {
        "id": "5WXl-b6VBxvG"
      },
      "execution_count": null,
      "outputs": []
    },
    {
      "cell_type": "markdown",
      "source": [
        "One-Hot Encoding"
      ],
      "metadata": {
        "id": "zO-D2U85B0So"
      }
    },
    {
      "cell_type": "code",
      "source": [
        "X = pd.get_dummies(X, drop_first=True)\n"
      ],
      "metadata": {
        "id": "A2OCmM6RB_6O"
      },
      "execution_count": null,
      "outputs": []
    },
    {
      "cell_type": "markdown",
      "source": [
        " Feature Scaling"
      ],
      "metadata": {
        "id": "9QRoiPE4CCiU"
      }
    },
    {
      "cell_type": "code",
      "source": [
        "from sklearn.preprocessing import StandardScaler\n",
        "\n",
        "scaler = StandardScaler()\n",
        "X_scaled = scaler.fit_transform(X)\n"
      ],
      "metadata": {
        "id": "8fMfPyiqCFra"
      },
      "execution_count": null,
      "outputs": []
    },
    {
      "cell_type": "markdown",
      "source": [
        " Train-Test Split"
      ],
      "metadata": {
        "id": "VogoB6ATCHkA"
      }
    },
    {
      "cell_type": "code",
      "source": [
        "from sklearn.model_selection import train_test_split\n",
        "\n",
        "X_train, X_test, y_train, y_test = train_test_split(\n",
        "    X_scaled, y, test_size=0.2, random_state=42\n",
        ")\n"
      ],
      "metadata": {
        "id": "r73kBRKnCJ_U"
      },
      "execution_count": null,
      "outputs": []
    },
    {
      "cell_type": "markdown",
      "source": [
        "Model Building"
      ],
      "metadata": {
        "id": "RCVv1BddCMhO"
      }
    },
    {
      "cell_type": "code",
      "source": [
        "from sklearn.ensemble import RandomForestClassifier\n",
        "\n",
        "model = RandomForestClassifier(random_state=42)\n",
        "model.fit(X_train, y_train)\n"
      ],
      "metadata": {
        "id": "v8m55NbqCPBG"
      },
      "execution_count": null,
      "outputs": []
    },
    {
      "cell_type": "markdown",
      "source": [
        " Evaluation"
      ],
      "metadata": {
        "id": "FUYwPHUNCQ46"
      }
    },
    {
      "cell_type": "code",
      "source": [
        "from sklearn.metrics import accuracy_score, classification_report, confusion_matrix\n",
        "\n",
        "y_pred = model.predict(X_test)\n",
        "print(\"Accuracy:\", accuracy_score(y_test, y_pred))\n",
        "print(classification_report(y_test, y_pred))\n",
        "sns.heatmap(confusion_matrix(y_test, y_pred), annot=True, fmt='d')\n",
        "plt.show()\n"
      ],
      "metadata": {
        "id": "zMfO89oXCS-J"
      },
      "execution_count": null,
      "outputs": []
    },
    {
      "cell_type": "markdown",
      "source": [
        "Make Predictions from New Input\n",
        "python\n",
        "Copy\n",
        "Edit\n"
      ],
      "metadata": {
        "id": "DmGoThP1CVqT"
      }
    },
    {
      "cell_type": "code",
      "source": [
        "print(X.columns.tolist())\n",
        "\n",
        "import pandas as pd\n",
        "\n",
        "# Create a dictionary that includes all columns from training\n",
        "new_input_dict = {\n",
        "    'Age': 35,\n",
        "    'Gender_Male': 1,\n",
        "    'Gender_Female': 0,\n",
        "    'Plan_Basic': 0,\n",
        "    'Plan_Premium': 1,\n",
        "    'MonthlyCharges': 5000,\n",
        "    # ... include all other one-hot encoded or numeric features, set missing to 0\n",
        "}\n",
        "\n",
        "# Convert to DataFrame\n",
        "new_input_df = pd.DataFrame([new_input_dict])\n",
        "\n",
        "# Reindex to match training column order\n",
        "new_input_df = new_input_df.reindex(columns=X.columns, fill_value=0)\n",
        "\n",
        "# Scale\n",
        "new_input_scaled = scaler.transform(new_input_df)\n",
        "\n",
        "# Predict\n",
        "prediction = model.predict(new_input_scaled)\n",
        "print(\"Prediction:\", \"Churn\" if prediction[0] == 1 else \"Not Churn\")\n",
        "\n"
      ],
      "metadata": {
        "id": "RR3piZuFCaK_"
      },
      "execution_count": null,
      "outputs": []
    },
    {
      "cell_type": "markdown",
      "source": [
        "Convert to DataFrame and Encode (for prediction input)"
      ],
      "metadata": {
        "id": "5g3FijDVCmQS"
      }
    },
    {
      "cell_type": "code",
      "source": [
        "input_dict = {\n",
        "    'Age': [35],\n",
        "    'Gender': ['Male'],\n",
        "    'Plan': ['Basic'],\n",
        "    # Add more fields as per your original dataset\n",
        "}\n",
        "\n",
        "input_df = pd.DataFrame(input_dict)\n",
        "\n",
        "# Convert categorical variables\n",
        "for col in input_df.select_dtypes(include='object'):\n",
        "    input_df[col] = le.fit_transform(input_df[col])\n",
        "\n",
        "# Align columns\n",
        "input_df = pd.get_dummies(input_df)\n",
        "input_df = input_df.reindex(columns=X.columns, fill_value=0)\n",
        "\n",
        "input_scaled = scaler.transform(input_df)\n"
      ],
      "metadata": {
        "id": "IkWlRsOLCqnk"
      },
      "execution_count": null,
      "outputs": []
    },
    {
      "cell_type": "markdown",
      "source": [
        "Predict the Final Grade"
      ],
      "metadata": {
        "id": "K2-nOQHeCsAA"
      }
    },
    {
      "cell_type": "code",
      "source": [
        "final_prediction = model.predict(input_scaled)\n",
        "print(\"Final Prediction:\", final_prediction)\n"
      ],
      "metadata": {
        "id": "VYy04pY5Cudc"
      },
      "execution_count": null,
      "outputs": []
    },
    {
      "cell_type": "markdown",
      "source": [
        "Deployment - Building an Interactive App\n"
      ],
      "metadata": {
        "id": "wRvGfLhsCz3P"
      }
    },
    {
      "cell_type": "code",
      "source": [
        "# Simulate form input in Colab\n",
        "user_input = pd.DataFrame({\n",
        "    'Age': [30],\n",
        "    'Gender': ['Male'],\n",
        "    'Plan': ['Premium'],\n",
        "    # Add other features...\n",
        "})\n",
        "\n",
        "# Encode, align, scale\n",
        "for col in user_input.select_dtypes(include='object'):\n",
        "    user_input[col] = le.fit_transform(user_input[col])\\\n",
        "\n",
        "\n",
        "user_input = pd.get_dummies(user_input)\n",
        "user_input = user_input.reindex(columns=X.columns, fill_value=0)\n",
        "\n",
        "user_input_scaled = scaler.transform(user_input)\n",
        "prediction = model.predict(user_input_scaled)\n",
        "\n",
        "print(\"Prediction:\", \"Churn\" if prediction[0] == 1 else \"Not Churn\")\n",
        "\n"
      ],
      "metadata": {
        "id": "UKvdlbtiC0xR"
      },
      "execution_count": null,
      "outputs": []
    },
    {
      "cell_type": "markdown",
      "source": [
        " Create a Prediction Function"
      ],
      "metadata": {
        "id": "MC-h3T8DDiHG"
      }
    },
    {
      "cell_type": "code",
      "source": [
        "def preprocess_input(input_data, scaler, encoder, base_columns):\n",
        "    \"\"\"\n",
        "    Preprocess input data: encode, one-hot, scale, and align columns.\n",
        "\n",
        "    Args:\n",
        "    - input_data (pd.DataFrame): Raw input data.\n",
        "    - scaler (StandardScaler): Fitted scaler.\n",
        "    - encoder (LabelEncoder): Fitted label encoder for categorical vars.\n",
        "    - base_columns (list): List of original X.columns after one-hot.\n",
        "\n",
        "    Returns:\n",
        "    - np.array: Scaled and aligned feature vector.\n",
        "    \"\"\"\n",
        "    data = input_data.copy()\n",
        "\n",
        "    for col in data.select_dtypes(include='object').columns:\n",
        "        data[col] = encoder.fit_transform(data[col])\n",
        "\n",
        "    data = pd.get_dummies(data)\n",
        "    data = data.reindex(columns=base_columns, fill_value=0)\n",
        "    data_scaled = scaler.transform(data)\n",
        "\n",
        "    return data_scaled\n",
        "\n",
        "def predict_churn(input_dict, model, scaler, encoder, base_columns):\n",
        "    \"\"\"\n",
        "    Make churn prediction from raw input dictionary.\n",
        "\n",
        "    Args:\n",
        "    - input_dict (dict): User inputs as key-value pairs.\n",
        "    - model (trained model): Trained classifier.\n",
        "    - scaler (StandardScaler): Trained scaler.\n",
        "    - encoder (LabelEncoder): Trained label encoder.\n",
        "    - base_columns (list): Reference for column alignment.\n",
        "\n",
        "    Returns:\n",
        "    - str: Prediction result.\n",
        "    \"\"\"\n",
        "    input_df = pd.DataFrame([input_dict])\n",
        "    processed = preprocess_input(input_df, scaler, encoder, base_columns)\n",
        "    prediction = model.predict(processed)[0]\n",
        "    return \"Churn\" if prediction == 1 else \"Not Churn\"\n"
      ],
      "metadata": {
        "id": "kvqjgdL5DlKf"
      },
      "execution_count": null,
      "outputs": []
    },
    {
      "cell_type": "markdown",
      "source": [
        "create the gradio interface"
      ],
      "metadata": {
        "id": "_v60v_hAJutw"
      }
    },
    {
      "cell_type": "code",
      "source": [
        "!pip install -q gradio\n",
        "import gradio as gr\n",
        "\n",
        "def predict_churn(age, gender, plan, monthly_charges):\n",
        "    # Create input DataFrame\n",
        "    input_dict = {\n",
        "        'Age': [age],\n",
        "        'Gender': [gender],\n",
        "        'Plan': [plan],\n",
        "        'MonthlyCharges': [monthly_charges]\n",
        "    }\n",
        "    input_df = pd.DataFrame(input_dict)\n",
        "\n",
        "    # Encode\n",
        "    for col in input_df.select_dtypes(include='object'):\n",
        "        input_df[col] = le.fit_transform(input_df[col])\n",
        "\n",
        "    # One-hot encoding (if needed)\n",
        "    input_df = pd.get_dummies(input_df)\n",
        "    input_df = input_df.reindex(columns=column_names, fill_value=0)\n",
        "\n",
        "    # Scale\n",
        "    input_scaled = scaler.transform(input_df)\n",
        "\n",
        "    # Predict\n",
        "    prediction = model.predict(input_scaled)[0]\n",
        "    return \"Churn\" if prediction == 1 else \"Not Churn\"\n"
      ],
      "metadata": {
        "id": "Cr1bsnakMPkI"
      },
      "execution_count": 9,
      "outputs": []
    },
    {
      "cell_type": "code",
      "source": [
        "iface = gr.Interface(\n",
        "    fn=predict_churn,\n",
        "    inputs=[\n",
        "        gr.Number(label=\"Age\"),\n",
        "        gr.Dropdown(choices=[\"Male\", \"Female\"], label=\"Gender\"),\n",
        "        gr.Dropdown(choices=[\"Basic\", \"Premium\", \"Gold\"], label=\"Plan\"),\n",
        "        gr.Number(label=\"Monthly Charges\")\n",
        "    ],\n",
        "    outputs=\"text\",\n",
        "    title=\"Churn Prediction App\",\n",
        "    description=\"Enter details to predict if a customer will churn.\"\n",
        ")\n",
        "\n",
        "iface.launch()\n"
      ],
      "metadata": {
        "colab": {
          "base_uri": "https://localhost:8080/",
          "height": 646
        },
        "id": "RwbMKSXPMVUf",
        "outputId": "dee4e32d-98e6-4146-cae6-2811e146e680"
      },
      "execution_count": 10,
      "outputs": [
        {
          "output_type": "stream",
          "name": "stdout",
          "text": [
            "It looks like you are running Gradio on a hosted a Jupyter notebook. For the Gradio app to work, sharing must be enabled. Automatically setting `share=True` (you can turn this off by setting `share=False` in `launch()` explicitly).\n",
            "\n",
            "Colab notebook detected. To show errors in colab notebook, set debug=True in launch()\n",
            "* Running on public URL: https://d54080e709ec2e3aa2.gradio.live\n",
            "\n",
            "This share link expires in 1 week. For free permanent hosting and GPU upgrades, run `gradio deploy` from the terminal in the working directory to deploy to Hugging Face Spaces (https://huggingface.co/spaces)\n"
          ]
        },
        {
          "output_type": "display_data",
          "data": {
            "text/plain": [
              "<IPython.core.display.HTML object>"
            ],
            "text/html": [
              "<div><iframe src=\"https://d54080e709ec2e3aa2.gradio.live\" width=\"100%\" height=\"500\" allow=\"autoplay; camera; microphone; clipboard-read; clipboard-write;\" frameborder=\"0\" allowfullscreen></iframe></div>"
            ]
          },
          "metadata": {}
        },
        {
          "output_type": "execute_result",
          "data": {
            "text/plain": []
          },
          "metadata": {},
          "execution_count": 10
        }
      ]
    }
  ]
}